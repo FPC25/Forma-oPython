{
 "cells": [
  {
   "cell_type": "markdown",
   "metadata": {},
   "source": [
    "Em uma carreira de desenvolvimento de software, a prática consistente desempenha um papel fundamental na construção de bases sólidas. Pensando nisso, criamos uma lista de atividades (não obrigatórias) focada em prática para melhorar ainda mais sua experiência de aprendizagem.\n",
    "\n",
    "Bora praticar então?\n",
    "\n",
    "\n",
    "Exercícios"
   ]
  },
  {
   "cell_type": "markdown",
   "metadata": {},
   "source": [
    "1 - Implemente uma classe chamada Carro com os atributos básicos, como modelo, cor e ano. Crie uma instância dessa classe e atribua valores aos seus atributos."
   ]
  },
  {
   "cell_type": "code",
   "execution_count": 4,
   "metadata": {},
   "outputs": [
    {
     "name": "stdout",
     "output_type": "stream",
     "text": [
      "Especificações: Camaro, Amarelo, 2024\n"
     ]
    }
   ],
   "source": [
    "class Carro:\n",
    "\n",
    "    def __init__(self, modelo, cor, ano):\n",
    "        self.modelo = modelo\n",
    "        self.cor = cor\n",
    "        self.ano = ano\n",
    "\n",
    "    def __str__(self):\n",
    "        return f'Especificações: {self.modelo}, {self.cor}, {self.ano}'\n",
    "\n",
    "camaro = Carro('Camaro', 'Amarelo', 2024)\n",
    "print(camaro)"
   ]
  },
  {
   "cell_type": "markdown",
   "metadata": {},
   "source": [
    "2 - Crie uma classe chamada Restaurante com os atributos nome, categoria, ativo e crie mais 2 atributos. Instancie um restaurante e atribua valores aos seus atributos."
   ]
  },
  {
   "cell_type": "code",
   "execution_count": 10,
   "metadata": {},
   "outputs": [
    {
     "name": "stdout",
     "output_type": "stream",
     "text": [
      "Nome: Suprema Pizza Cine | Categoria: Pizzaria | Endereço: Jd. São Paulo, 923, São Paulo, Brasil\n"
     ]
    }
   ],
   "source": [
    "class Restaurante:\n",
    "\n",
    "    def __init__(self, nome, categoria, cep, numero, estado, pais, ativo = False):\n",
    "        self.nome = nome\n",
    "        self.categoria = categoria\n",
    "        self.ativo = ativo\n",
    "        self.cep = cep #ideal é usar essa informação para buscar o endereco pelo cep, estado e pais\n",
    "        self.numero = numero\n",
    "        self.estado = estado\n",
    "        self.pais = pais\n",
    "\n",
    "    def __str__(self):\n",
    "        return f'Nome: {self.nome} | Categoria: {self.categoria} | Endereço: {self.cep}, {self.numero}, {self.estado}, {self.pais}'\n",
    "    \n",
    "restaurante_suprema = Restaurante('Suprema Pizza Cine', 'Pizzaria', 'Jd. São Paulo', 923, 'São Paulo', 'Brasil')\n",
    "print(restaurante_suprema)"
   ]
  },
  {
   "cell_type": "markdown",
   "metadata": {},
   "source": [
    "3 - Modifique a classe Restaurante adicionando um construtor que aceita nome e categoria como parâmetros e inicia ativo como False por padrão. Crie uma instância utilizando o construtor."
   ]
  },
  {
   "cell_type": "markdown",
   "metadata": {},
   "source": [
    "4 - Adicione um método especial __str__ à classe Restaurante para que, ao imprimir uma instância, seja exibida uma mensagem formatada com o nome e a categoria. Exiba essa mensagem para uma instância de restaurante."
   ]
  },
  {
   "cell_type": "code",
   "execution_count": 11,
   "metadata": {},
   "outputs": [
    {
     "name": "stdout",
     "output_type": "stream",
     "text": [
      "Nome: Suprema Pizza Cine | Categoria: Pizzaria\n"
     ]
    }
   ],
   "source": [
    "class Restaurante:\n",
    "\n",
    "    def __init__(self, nome, categoria, ativo = False):\n",
    "        self.nome = nome\n",
    "        self.categoria = categoria\n",
    "        self.ativo = ativo\n",
    "\n",
    "    def __str__(self):\n",
    "        return f'Nome: {self.nome} | Categoria: {self.categoria}'\n",
    "    \n",
    "restaurante_suprema = Restaurante('Suprema Pizza Cine', 'Pizzaria')\n",
    "print(restaurante_suprema)"
   ]
  },
  {
   "cell_type": "markdown",
   "metadata": {},
   "source": [
    "5 - Crie uma classe chamada Cliente e pense em 4 atributos. Em seguida, instancie 3 objetos desta classe e atribua valores aos seus atributos através de um método construtor."
   ]
  },
  {
   "cell_type": "code",
   "execution_count": 13,
   "metadata": {},
   "outputs": [],
   "source": [
    "class Cliente:\n",
    "\n",
    "    def __init__(self, nome, email, username, senha):\n",
    "        self.nome = nome\n",
    "        self.email = email\n",
    "        self.username = username\n",
    "        self.senha = senha\n",
    "\n",
    "usr1 = Cliente('Felipe', 'felipepcorral@gmail.com', 'Macarrao', 'Batatinha123')\n",
    "usr2 = Cliente('George', 'georgeking@gmail.com', 'King', 'Queen456')\n",
    "usr3 = Cliente('Phelipe', 'prince@gmail.com', 'Prince', 'Soontobeking890')"
   ]
  }
 ],
 "metadata": {
  "kernelspec": {
   "display_name": "Python 3",
   "language": "python",
   "name": "python3"
  },
  "language_info": {
   "codemirror_mode": {
    "name": "ipython",
    "version": 3
   },
   "file_extension": ".py",
   "mimetype": "text/x-python",
   "name": "python",
   "nbconvert_exporter": "python",
   "pygments_lexer": "ipython3",
   "version": "3.12.4"
  }
 },
 "nbformat": 4,
 "nbformat_minor": 2
}
