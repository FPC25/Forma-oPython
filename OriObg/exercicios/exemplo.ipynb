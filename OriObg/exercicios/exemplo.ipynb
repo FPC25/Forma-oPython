{
 "cells": [
  {
   "cell_type": "code",
   "execution_count": 4,
   "metadata": {},
   "outputs": [
    {
     "name": "stdout",
     "output_type": "stream",
     "text": [
      "Nome: Hotel California - Banda: Eagles, duracao: 390 s\n"
     ]
    }
   ],
   "source": [
    "class Musica:\n",
    "\n",
    "    def __init__(self, nome, artista, duracao):\n",
    "        self.nome = nome\n",
    "        self.artista = artista\n",
    "        self.duracao = duracao\n",
    "\n",
    "    def __str__(self):\n",
    "        return f'Nome: {self.nome} - Banda: {self.artista}, duracao: {self.duracao} s'\n",
    "    \n",
    "musica1 = Musica(nome='Under Pressure', artista='Queen & David Bowie', duracao=248)\n",
    "musica2 = Musica(nome='The Trooper', artista='Iron Maiden', duracao=245)\n",
    "musica3 = Musica(nome='Hotel California', artista='Eagles', duracao=390)\n",
    "\n",
    "print(musica3)"
   ]
  },
  {
   "cell_type": "code",
   "execution_count": 11,
   "metadata": {},
   "outputs": [
    {
     "name": "stdout",
     "output_type": "stream",
     "text": [
      "Nome: Felipe | Idade: 26 anos | Profissao: \n",
      " Nome: Mariana | Idade: 26 anos | Profissao: contadora\n",
      "\n",
      "Nome: Felipe | Idade: 27 anos | Profissao: \n",
      " Nome: Mariana | Idade: 26 anos | Profissao: contadora\n",
      "\n",
      "Olá, meu nome é Mariana, tenho 26 anos e sou contadora.\n",
      "\n"
     ]
    }
   ],
   "source": [
    "class Pessoa:\n",
    "\n",
    "    def __init__(self, nome = '', idade = 0, profissao = ''):\n",
    "        self._nome = nome\n",
    "        self._idade = idade\n",
    "        self._profissao = profissao\n",
    "\n",
    "    def __str__(self):\n",
    "        return f'Nome: {self._nome} | Idade: {self._idade} anos | Profissao: {self._profissao}\\n'\n",
    "    \n",
    "    \n",
    "    def aniversario(self):\n",
    "        self._idade += 1\n",
    "\n",
    "    @property\n",
    "    def saudacao(self):\n",
    "        if self._profissao:\n",
    "            return f'Olá, meu nome é {self._nome}, tenho {self._idade} anos e sou {self._profissao}.\\n'\n",
    "        else:\n",
    "            return f'Olá, meu nome é {self._nome} e tenho {self._idade} anos.\\n'\n",
    "        \n",
    "trabalhador1 = Pessoa('Felipe', 26)\n",
    "trabalhador2 = Pessoa('Mariana', 26, 'contadora')\n",
    "\n",
    "print(trabalhador1, trabalhador2)\n",
    "trabalhador1.aniversario()\n",
    "\n",
    "print(trabalhador1, trabalhador2)\n",
    "print(trabalhador2.saudacao)"
   ]
  }
 ],
 "metadata": {
  "kernelspec": {
   "display_name": "Python 3",
   "language": "python",
   "name": "python3"
  },
  "language_info": {
   "codemirror_mode": {
    "name": "ipython",
    "version": 3
   },
   "file_extension": ".py",
   "mimetype": "text/x-python",
   "name": "python",
   "nbconvert_exporter": "python",
   "pygments_lexer": "ipython3",
   "version": "3.12.4"
  }
 },
 "nbformat": 4,
 "nbformat_minor": 2
}
