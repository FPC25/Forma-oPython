{
 "cells": [
  {
   "cell_type": "markdown",
   "metadata": {},
   "source": [
    "Em uma carreira de desenvolvimento de software, a prática consistente desempenha um papel fundamental na construção de bases sólidas. Pensando nisso, criamos uma lista de atividades (não obrigatórias) focada em prática para melhorar ainda mais sua experiência de aprendizagem. Bora praticar então?\n",
    "\n",
    "\n",
    "Exercícios"
   ]
  },
  {
   "cell_type": "code",
   "execution_count": 1,
   "metadata": {},
   "outputs": [],
   "source": [
    "class restaurante:\n",
    "    nome = ''\n",
    "    categoria = ''\n",
    "    ativo = False\n",
    "\n",
    "restaurante_praca = restaurante()\n",
    "restaurante_praca.nome = 'Praça'\n",
    "restaurante_praca.categoria = 'Gourmet'\n",
    "restaurantes_suprema = restaurante()"
   ]
  },
  {
   "cell_type": "markdown",
   "metadata": {},
   "source": [
    "1 - Atribua o valor 'Italiana' ao atributo categoria da instância restaurante_praca da classe Restaurante."
   ]
  },
  {
   "cell_type": "code",
   "execution_count": 6,
   "metadata": {},
   "outputs": [
    {
     "name": "stdout",
     "output_type": "stream",
     "text": [
      "Italiana\n"
     ]
    }
   ],
   "source": [
    "restaurante_praca.categoria = 'Italiana'\n",
    "print(restaurante_praca.categoria)"
   ]
  },
  {
   "cell_type": "markdown",
   "metadata": {},
   "source": [
    "2 - Acesse o valor do atributo nome da instância restaurante_praca da classe Restaurante."
   ]
  },
  {
   "cell_type": "code",
   "execution_count": 8,
   "metadata": {},
   "outputs": [
    {
     "name": "stdout",
     "output_type": "stream",
     "text": [
      "Praça\n"
     ]
    }
   ],
   "source": [
    "print(restaurante_praca.nome)"
   ]
  },
  {
   "cell_type": "markdown",
   "metadata": {},
   "source": [
    "3 - Verifique o valor inicial do atributo ativo para a instância restaurante_praca e exiba uma mensagem informando se o restaurante está ativo ou inativo."
   ]
  },
  {
   "cell_type": "code",
   "execution_count": 9,
   "metadata": {},
   "outputs": [
    {
     "name": "stdout",
     "output_type": "stream",
     "text": [
      "O restaurante Praça está desativado\n"
     ]
    }
   ],
   "source": [
    "if restaurante_praca.ativo:\n",
    "    print(f'O restaurante {restaurante_praca.nome} está ativo')\n",
    "else:\n",
    "    print(f'O restaurante {restaurante_praca.nome} está desativado')"
   ]
  },
  {
   "cell_type": "markdown",
   "metadata": {},
   "source": [
    "4 - Acesse o valor do atributo de classe categoria diretamente da classe Restaurante e armazene em uma variável chamada categoria."
   ]
  },
  {
   "cell_type": "code",
   "execution_count": 10,
   "metadata": {},
   "outputs": [],
   "source": [
    "categoria = restaurante.categoria"
   ]
  },
  {
   "cell_type": "markdown",
   "metadata": {},
   "source": [
    "5 - Altere o valor do atributo nome para 'Bistrô'."
   ]
  },
  {
   "cell_type": "code",
   "execution_count": 11,
   "metadata": {},
   "outputs": [],
   "source": [
    "restaurante.nome = 'Bistrô'"
   ]
  },
  {
   "cell_type": "markdown",
   "metadata": {},
   "source": [
    "6 - Crie uma nova instância da classe Restaurante chamada restaurante_pizza com o nome 'Pizza Place' e categoria 'Fast Food'."
   ]
  },
  {
   "cell_type": "code",
   "execution_count": 12,
   "metadata": {},
   "outputs": [],
   "source": [
    "restaurante_pizza = restaurante()\n",
    "restaurante_pizza.nome = 'Pizza Place'\n",
    "restaurante_pizza.categoria = 'Fast Food'"
   ]
  },
  {
   "cell_type": "markdown",
   "metadata": {},
   "source": [
    "7 - Verifique se a categoria da instância restaurante_pizza é 'Fast Food'."
   ]
  },
  {
   "cell_type": "code",
   "execution_count": 14,
   "metadata": {},
   "outputs": [
    {
     "name": "stdout",
     "output_type": "stream",
     "text": [
      "O restaurante Pizza Place é um Fast Food\n"
     ]
    }
   ],
   "source": [
    "if restaurante_pizza.categoria == 'Fast Food':\n",
    "    print(f'O restaurante {restaurante_pizza.nome} é um Fast Food')\n",
    "else:\n",
    "    print(f'O restaurante {restaurante_pizza.nome} não é um Fast Food')"
   ]
  },
  {
   "cell_type": "markdown",
   "metadata": {},
   "source": [
    "8 - Mude o estado da instância restaurante_pizza para ativo."
   ]
  },
  {
   "cell_type": "code",
   "execution_count": 15,
   "metadata": {},
   "outputs": [],
   "source": [
    "restaurante_pizza.ativo = True"
   ]
  },
  {
   "cell_type": "markdown",
   "metadata": {},
   "source": [
    "9 - Imprima no console o nome e a categoria da instância restaurante_praca."
   ]
  },
  {
   "cell_type": "code",
   "execution_count": 17,
   "metadata": {},
   "outputs": [
    {
     "name": "stdout",
     "output_type": "stream",
     "text": [
      "Nome: Praça, Categoria: Italiana\n"
     ]
    }
   ],
   "source": [
    "print(f'Nome: {restaurante_praca.nome}, Categoria: {restaurante_praca.categoria}')"
   ]
  }
 ],
 "metadata": {
  "kernelspec": {
   "display_name": "Python 3",
   "language": "python",
   "name": "python3"
  },
  "language_info": {
   "codemirror_mode": {
    "name": "ipython",
    "version": 3
   },
   "file_extension": ".py",
   "mimetype": "text/x-python",
   "name": "python",
   "nbconvert_exporter": "python",
   "pygments_lexer": "ipython3",
   "version": "3.12.4"
  }
 },
 "nbformat": 4,
 "nbformat_minor": 2
}
