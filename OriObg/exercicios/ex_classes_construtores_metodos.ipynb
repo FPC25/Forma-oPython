{
 "cells": [
  {
   "cell_type": "markdown",
   "metadata": {},
   "source": [
    "Em uma carreira de desenvolvimento de software, a prática consistente desempenha um papel fundamental na construção de bases sólidas. Pensando nisso, criamos uma lista de atividades (não obrigatórias) focada em prática para melhorar ainda mais sua experiência de aprendizagem.\n",
    "\n",
    "Bora praticar então?\n",
    "\n",
    "Desafios"
   ]
  },
  {
   "cell_type": "markdown",
   "metadata": {},
   "source": [
    "1 - Crie uma classe chamada ContaBancaria com um construtor que aceita os parâmetros titular e saldo. Inicie o atributo ativo como False por padrão."
   ]
  },
  {
   "cell_type": "markdown",
   "metadata": {},
   "source": [
    "2 - Na classe ContaBancaria, adicione um método especial __str__ que retorna uma mensagem formatada com o titular e o saldo da conta. Crie duas instâncias da classe e imprima essas instâncias."
   ]
  },
  {
   "cell_type": "markdown",
   "metadata": {},
   "source": [
    "3 - Adicione um método de classe chamado ativar_conta à classe ContaBancaria que define o atributo ativo como True. Crie uma instância da classe, chame o método de classe e imprima o valor de ativo."
   ]
  },
  {
   "cell_type": "markdown",
   "metadata": {},
   "source": [
    "4 - Refatore a classe ContaBancaria para utilizar a abordagem \"pythonica\" na criação de atributos. Utilize propriedades, se necessário."
   ]
  },
  {
   "cell_type": "markdown",
   "metadata": {},
   "source": [
    "5 - Crie uma instância da classe e imprima o valor da propriedade titular."
   ]
  },
  {
   "cell_type": "code",
   "execution_count": 17,
   "metadata": {},
   "outputs": [
    {
     "name": "stdout",
     "output_type": "stream",
     "text": [
      "Nome do Titular: Felipe | Saldo: 1000 | Ativo: False\n",
      "\n",
      "1000\n",
      "Mariana\n"
     ]
    }
   ],
   "source": [
    "class ContaBancaria:\n",
    "\n",
    "    def __init__(self, titular = '', saldo = 0, ativo = False):\n",
    "        self._titular = titular\n",
    "        self._saldo = saldo\n",
    "        self._ativo = ativo\n",
    "\n",
    "    def __str__(self):\n",
    "        return f'Nome do Titular: {self._titular} | Saldo: {self._saldo} | Ativo: {self._ativo}\\n'\n",
    "    \n",
    "    def ativar_conta(self):\n",
    "        self._ativo = True\n",
    "\n",
    "    @property\n",
    "    def ativo(self):\n",
    "        return '☑' if self._ativo else '☐'\n",
    "    \n",
    "    @property\n",
    "    def titular(self):\n",
    "        return self._titular\n",
    "    \n",
    "    @property\n",
    "    def saldo(self):\n",
    "        return self._saldo\n",
    "\n",
    "conta1 = ContaBancaria('Felipe', 1000)\n",
    "conta2 = ContaBancaria('Mariana', 2000)\n",
    "\n",
    "print(conta1)\n",
    "print(conta1.saldo)\n",
    "print(conta2.titular)\n"
   ]
  },
  {
   "cell_type": "markdown",
   "metadata": {},
   "source": [
    "6 - Crie uma classe chamada ClienteBanco com um construtor que aceita 5 atributos. Instancie 3 objetos desta classe e atribua valores aos seus atributos através do método construtor."
   ]
  },
  {
   "cell_type": "markdown",
   "metadata": {},
   "source": [
    "7 - Crie um método de classe para a conta ClienteBanco."
   ]
  },
  {
   "cell_type": "code",
   "execution_count": 20,
   "metadata": {},
   "outputs": [
    {
     "name": "stdout",
     "output_type": "stream",
     "text": [
      "Nome do Titular: Felipe | Saldo: 10000 | Ativo: False\n",
      "\n"
     ]
    }
   ],
   "source": [
    "class ClienteBanco:\n",
    "\n",
    "    def __init__(self, nome = '', idade = 0, endereco = '', cpf = '', tipo_conta = ''):\n",
    "        self._nome = nome\n",
    "        self._idade = idade\n",
    "        self._endereco = endereco\n",
    "        self._cpf = cpf\n",
    "        self._tipoconta = tipo_conta\n",
    "    \n",
    "    @property\n",
    "    def nome(self):\n",
    "        return self._nome\n",
    "    \n",
    "    @property\n",
    "    def idade(self):\n",
    "        return self._idade\n",
    "    \n",
    "    @property\n",
    "    def endereco(self):\n",
    "        return self._endereco\n",
    "    \n",
    "    @property\n",
    "    def cpf(self):\n",
    "        return self._cpf\n",
    "    \n",
    "    @property\n",
    "    def tipo_conta(self):\n",
    "        return self._tipoconta\n",
    "\n",
    "    @classmethod\n",
    "    def criar_conta(cls, titular, saldo_inicial):\n",
    "        conta = ContaBancaria(titular, saldo_inicial)\n",
    "        return conta\n",
    "    \n",
    "cliente1 = ClienteBanco('Felipe', 26, 'Rua Martins Rodrigues, 48', '450.866.698-12', '1')\n",
    "conta1 = cliente1.criar_conta(cliente1.nome, 10000)\n",
    "\n",
    "print(conta1)"
   ]
  }
 ],
 "metadata": {
  "kernelspec": {
   "display_name": "Python 3",
   "language": "python",
   "name": "python3"
  },
  "language_info": {
   "codemirror_mode": {
    "name": "ipython",
    "version": 3
   },
   "file_extension": ".py",
   "mimetype": "text/x-python",
   "name": "python",
   "nbconvert_exporter": "python",
   "pygments_lexer": "ipython3",
   "version": "3.12.4"
  }
 },
 "nbformat": 4,
 "nbformat_minor": 2
}
