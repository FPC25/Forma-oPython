{
 "cells": [
  {
   "cell_type": "markdown",
   "metadata": {},
   "source": [
    "Em uma carreira de desenvolvimento de software, a prática consistente desempenha um papel fundamental na construção de bases sólidas. Pensando nisso, criamos uma lista de atividades (não obrigatórias) focada em prática para melhorar ainda mais sua experiência de aprendizagem.\n",
    "\n",
    "Bora praticar então?\n",
    "\n",
    "\n",
    "Exercícios"
   ]
  },
  {
   "cell_type": "markdown",
   "metadata": {},
   "source": [
    "1 - Crie uma classe chamada Livro com um construtor que aceita os parâmetros titulo, autor e ano_publicacao. Inicie um atributo chamado disponivel como True por padrão."
   ]
  },
  {
   "cell_type": "markdown",
   "metadata": {},
   "source": [
    "2 - Na classe Livro, adicione um método especial str que retorna uma mensagem formatada com o título, autor e ano de publicação do livro. Crie duas instâncias da classe Livro e imprima essas instâncias."
   ]
  },
  {
   "cell_type": "code",
   "execution_count": 1,
   "metadata": {},
   "outputs": [
    {
     "name": "stdout",
     "output_type": "stream",
     "text": [
      "[<livro.Livro object at 0x7fc0f83e37a0>]\n",
      "[<livro.Livro object at 0x7fc0f83e37a0>, <livro.Livro object at 0x7fc0f83e3c20>]\n",
      "[<livro.Livro object at 0x7fc0f83e37a0>, <livro.Livro object at 0x7fc0f83e3c20>, <livro.Livro object at 0x7fc0f8419fa0>]\n",
      "O livro \"O fim da infância\" foi escrito por Arthur C. Clarke em 1953 e está disponivel para emprestimo\n",
      "O livro \"2001: Uma odisséia no espaço\" foi escrito por Arthur C. Clarke em 1951 e está disponivel para emprestimo\n",
      "O livro \"Fahrenheit 451\" foi escrito por Ray Bradbury em 1953 e está disponivel para emprestimo\n"
     ]
    }
   ],
   "source": [
    "from livro import Livro\n",
    "\n",
    "livro1 = Livro('O fim da infância', 'Arthur C. Clarke', 1953)\n",
    "livro2 = Livro('2001: Uma odisséia no espaço', 'Arthur C. Clarke', 1951)\n",
    "livro3 = Livro('Fahrenheit 451', 'Ray Bradbury', 1953)\n",
    "\n",
    "print(livro1)\n",
    "print(livro2)\n",
    "print(livro3)"
   ]
  },
  {
   "cell_type": "markdown",
   "metadata": {},
   "source": [
    "3 - Adicione um método de instância chamado emprestar à classe Livro que define o atributo disponivel como False. Crie uma instância da classe, chame o método emprestar e imprima se o livro está disponível ou não."
   ]
  },
  {
   "cell_type": "code",
   "execution_count": 2,
   "metadata": {},
   "outputs": [
    {
     "name": "stdout",
     "output_type": "stream",
     "text": [
      "O livro \"O fim da infância\" foi escrito por Arthur C. Clarke em 1953 e está indisponivel para emprestimo\n",
      "O livro \"O fim da infância\" foi escrito por Arthur C. Clarke em 1953 e está disponivel para emprestimo\n"
     ]
    }
   ],
   "source": [
    "livro1.emprestar()\n",
    "print(livro1)\n",
    "livro1.devolver()\n",
    "print(livro1)"
   ]
  },
  {
   "cell_type": "markdown",
   "metadata": {},
   "source": [
    "4 - Adicione um método estático chamado verificar_disponibilidade à classe Livro que recebe um ano como parâmetro e retorna uma lista dos livros disponíveis publicados nesse ano."
   ]
  },
  {
   "cell_type": "code",
   "execution_count": 3,
   "metadata": {},
   "outputs": [
    {
     "name": "stdout",
     "output_type": "stream",
     "text": [
      "[<livro.Livro object at 0x7fc0f83e37a0>, <livro.Livro object at 0x7fc0f8419fa0>]\n"
     ]
    }
   ],
   "source": [
    "print(Livro.verificar_disponibilidade(1953))"
   ]
  },
  {
   "cell_type": "markdown",
   "metadata": {},
   "source": [
    "5 - Crie um arquivo chamado biblioteca.py e importe a classe Livro neste arquivo."
   ]
  },
  {
   "cell_type": "markdown",
   "metadata": {},
   "source": [
    "6 - No arquivo biblioteca.py, empreste o livro chamando o método emprestar e imprima se o livro está disponível ou não após o empréstimo."
   ]
  },
  {
   "cell_type": "markdown",
   "metadata": {},
   "source": [
    "7 - No arquivo biblioteca.py, utilize o método estático verificar_disponibilidade para obter a lista de livros disponíveis publicados em um ano específico."
   ]
  },
  {
   "cell_type": "markdown",
   "metadata": {},
   "source": [
    "8 - Crie um arquivo chamado main.py, importe a classe Livro e, no arquivo main.py, instancie dois objetos da classe Livro e exiba a mensagem formatada utilizando o método str."
   ]
  }
 ],
 "metadata": {
  "kernelspec": {
   "display_name": "Python 3",
   "language": "python",
   "name": "python3"
  },
  "language_info": {
   "codemirror_mode": {
    "name": "ipython",
    "version": 3
   },
   "file_extension": ".py",
   "mimetype": "text/x-python",
   "name": "python",
   "nbconvert_exporter": "python",
   "pygments_lexer": "ipython3",
   "version": "3.12.4"
  }
 },
 "nbformat": 4,
 "nbformat_minor": 2
}
