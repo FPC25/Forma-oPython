{
 "cells": [
  {
   "cell_type": "code",
   "execution_count": 1,
   "metadata": {},
   "outputs": [
    {
     "name": "stdout",
     "output_type": "stream",
     "text": [
      "['2001: Uma odisséia no espaço']\n",
      "O livro \"O fim da infância\" foi escrito por Arthur C. Clarke em 1953 e está indisponivel para emprestimo\n",
      "['Fahrenheit 451']\n"
     ]
    }
   ],
   "source": [
    "from livro import Livro\n",
    "\n",
    "\n",
    "def main():\n",
    "\n",
    "    livro1 = Livro('O fim da infância', 'Arthur C. Clarke', 1953)\n",
    "    livro2 = Livro('2001: Uma odisséia no espaço', 'Arthur C. Clarke', 1951)\n",
    "    livro3 = Livro('Fahrenheit 451', 'Ray Bradbury', 1953)\n",
    "\n",
    "    Livro.verificar_disponibilidade(1951)\n",
    "    livro1.emprestar()\n",
    "    print(livro1)\n",
    "\n",
    "    Livro.verificar_disponibilidade(1953)\n",
    "\n",
    "if __name__ == '__main__':\n",
    "    main()"
   ]
  }
 ],
 "metadata": {
  "kernelspec": {
   "display_name": "Python 3",
   "language": "python",
   "name": "python3"
  },
  "language_info": {
   "codemirror_mode": {
    "name": "ipython",
    "version": 3
   },
   "file_extension": ".py",
   "mimetype": "text/x-python",
   "name": "python",
   "nbconvert_exporter": "python",
   "pygments_lexer": "ipython3",
   "version": "3.12.4"
  }
 },
 "nbformat": 4,
 "nbformat_minor": 2
}
