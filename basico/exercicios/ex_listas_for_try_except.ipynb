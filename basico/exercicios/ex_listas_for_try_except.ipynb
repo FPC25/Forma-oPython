{
 "cells": [
  {
   "cell_type": "markdown",
   "metadata": {},
   "source": [
    "Como já vimos, programação é prática! Criamos mais uma lista de atividades (não obrigatórias) para você exercitar e reforçar ainda mais seu aprendizado e o conteúdo da vez são listas, blocos de repetição e try except. Bora praticar?\n",
    "\n",
    "Exercícios"
   ]
  },
  {
   "cell_type": "markdown",
   "metadata": {},
   "source": [
    "1 - Crie uma lista para cada informação a seguir:\n",
    "\n",
    "-Lista de números de 1 a 10;\n",
    "\n",
    "-Lista com quatro nomes;\n",
    "\n",
    "-Lista com o ano que você nasceu e o ano atual."
   ]
  },
  {
   "cell_type": "code",
   "execution_count": 7,
   "metadata": {},
   "outputs": [],
   "source": [
    "numeros = [1, 2, 3, 4, 5, 6, 7, 8, 9, 10]\n",
    "\n",
    "nomes = ['Felipe', 'Murilo', 'Marcio', 'Giovane']\n",
    "\n",
    "ano = [1997, 2024]"
   ]
  },
  {
   "cell_type": "markdown",
   "metadata": {},
   "source": [
    "2 - Crie uma lista e utilize um loop for para percorrer todos os elementos da lista."
   ]
  },
  {
   "cell_type": "code",
   "execution_count": 8,
   "metadata": {},
   "outputs": [
    {
     "name": "stdout",
     "output_type": "stream",
     "text": [
      "1\n",
      "2\n",
      "3\n",
      "4\n",
      "5\n",
      "6\n",
      "7\n",
      "8\n",
      "9\n",
      "10\n"
     ]
    }
   ],
   "source": [
    "for num in numeros:\n",
    "    print(num)"
   ]
  },
  {
   "cell_type": "markdown",
   "metadata": {},
   "source": [
    "3 - Utilize um loop for para calcular a soma dos números ímpares de 1 a 10."
   ]
  },
  {
   "cell_type": "code",
   "execution_count": 9,
   "metadata": {},
   "outputs": [
    {
     "name": "stdout",
     "output_type": "stream",
     "text": [
      "25\n"
     ]
    }
   ],
   "source": [
    "impares = []\n",
    "for num in numeros:\n",
    "    if num % 2 != 0:\n",
    "        impares.append(num)\n",
    "\n",
    "print(sum(impares))"
   ]
  },
  {
   "cell_type": "markdown",
   "metadata": {},
   "source": [
    "4 - Utilize um loop for para imprimir os números de 1 a 10 em ordem decrescente."
   ]
  },
  {
   "cell_type": "code",
   "execution_count": 10,
   "metadata": {},
   "outputs": [
    {
     "name": "stdout",
     "output_type": "stream",
     "text": [
      "10\n",
      "9\n",
      "8\n",
      "7\n",
      "6\n",
      "5\n",
      "4\n",
      "3\n",
      "2\n",
      "1\n"
     ]
    }
   ],
   "source": [
    "for i in range(10, 0, -1):\n",
    "    print(i)"
   ]
  },
  {
   "cell_type": "markdown",
   "metadata": {},
   "source": [
    "5 - Solicite ao usuário um número e, em seguida, utilize um loop for para imprimir a tabuada desse número, indo de 1 a 10."
   ]
  },
  {
   "cell_type": "code",
   "execution_count": 16,
   "metadata": {},
   "outputs": [
    {
     "name": "stdout",
     "output_type": "stream",
     "text": [
      "-1 x 1 = -1\n",
      "-1 x 2 = -2\n",
      "-1 x 3 = -3\n",
      "-1 x 4 = -4\n",
      "-1 x 5 = -5\n",
      "-1 x 6 = -6\n",
      "-1 x 7 = -7\n",
      "-1 x 8 = -8\n",
      "-1 x 9 = -9\n",
      "-1 x 10 = -10\n"
     ]
    }
   ],
   "source": [
    "num = 'a'\n",
    "while type(num) != int:\n",
    "    try:\n",
    "        num = int(input('Digite um numero para obter sua tabuada: '))\n",
    "    except:\n",
    "        print('Entrada invalida. Deve ser um numero inteiro')\n",
    "\n",
    "for i in numeros:\n",
    "    print(f'{num} x {i} = {num*i}')"
   ]
  },
  {
   "cell_type": "markdown",
   "metadata": {},
   "source": [
    "6 - Crie uma lista de números e utilize um loop for para calcular a soma de todos os elementos. Utilize um bloco try-except para lidar com possíveis exceções."
   ]
  },
  {
   "cell_type": "code",
   "execution_count": 19,
   "metadata": {},
   "outputs": [
    {
     "name": "stdout",
     "output_type": "stream",
     "text": [
      "53.3\n"
     ]
    }
   ],
   "source": [
    "list = [1, 2, 3, 5.2, 2.1, 30, 10]\n",
    "soma = 0\n",
    "try:\n",
    "    for i in list:\n",
    "        soma += i\n",
    "    print(soma)\n",
    "except Exception as e:\n",
    "    print('Ocorreu um erro: ', e)"
   ]
  },
  {
   "cell_type": "markdown",
   "metadata": {},
   "source": [
    "7 - Construa um código que calcule a média dos valores em uma lista. Utilize um bloco try-except para lidar com a divisão por zero, caso a lista esteja vazia."
   ]
  },
  {
   "cell_type": "code",
   "execution_count": 23,
   "metadata": {},
   "outputs": [
    {
     "name": "stdout",
     "output_type": "stream",
     "text": [
      "Ocorreu um erro: unsupported operand type(s) for +=: 'int' and 'NoneType'\n"
     ]
    }
   ],
   "source": [
    "lista = [None]\n",
    "soma = 0\n",
    "try:\n",
    "    for i in lista:\n",
    "        soma += i\n",
    "    media = soma/len(lista)\n",
    "    print(media)\n",
    "except ZeroDivisionError:\n",
    "    print(\"A lista está vazia, não é possivel calcular a media\")\n",
    "except Exception as e:\n",
    "    print(f'Ocorreu um erro: {e}')"
   ]
  }
 ],
 "metadata": {
  "kernelspec": {
   "display_name": "Python 3",
   "language": "python",
   "name": "python3"
  },
  "language_info": {
   "codemirror_mode": {
    "name": "ipython",
    "version": 3
   },
   "file_extension": ".py",
   "mimetype": "text/x-python",
   "name": "python",
   "nbconvert_exporter": "python",
   "pygments_lexer": "ipython3",
   "version": "3.10.0"
  }
 },
 "nbformat": 4,
 "nbformat_minor": 2
}
