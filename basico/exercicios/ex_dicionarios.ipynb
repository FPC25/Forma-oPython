{
 "cells": [
  {
   "cell_type": "markdown",
   "metadata": {},
   "source": [
    "Como já vimos, programação é prática! Criamos mais uma lista de atividades (não obrigatórias) para você exercitar e reforçar ainda mais seu aprendizado e o conteúdo da vez são dicionarios. Bora praticar?\n",
    "\n",
    "\n",
    "Exercícios"
   ]
  },
  {
   "cell_type": "markdown",
   "metadata": {},
   "source": [
    "1 - Crie um dicionário representando informações sobre uma pessoa, como nome, idade e cidade."
   ]
  },
  {
   "cell_type": "code",
   "execution_count": 14,
   "metadata": {},
   "outputs": [
    {
     "name": "stdout",
     "output_type": "stream",
     "text": [
      "{'nome': 'Felipe Corral', 'idade': 26, 'cidade': 'São Paulo'}\n"
     ]
    }
   ],
   "source": [
    "cadastro = {'nome': 'Felipe Corral', 'idade': 26, 'cidade': 'São Paulo'}\n",
    "print(cadastro)"
   ]
  },
  {
   "cell_type": "markdown",
   "metadata": {},
   "source": [
    "2 - Utilizando o dicionário criado no item 1:\n",
    "\n",
    "a) Modifique o valor de um dos itens no dicionário (por exemplo, atualize a idade da pessoa);\n",
    "\n",
    "b) Adicione um campo de profissão para essa pessoa;\n",
    "\n",
    "c) Remova um item do dicionário."
   ]
  },
  {
   "cell_type": "code",
   "execution_count": 4,
   "metadata": {},
   "outputs": [
    {
     "name": "stdout",
     "output_type": "stream",
     "text": [
      "{'nome': 'Felipe Corral', 'idade': 27, 'cidade': 'São Paulo'}\n"
     ]
    }
   ],
   "source": [
    "#item a\n",
    "cadastro.update({'idade': 27})\n",
    "print(cadastro)"
   ]
  },
  {
   "cell_type": "code",
   "execution_count": 15,
   "metadata": {},
   "outputs": [
    {
     "name": "stdout",
     "output_type": "stream",
     "text": [
      "{'nome': 'Felipe Corral', 'idade': 26, 'cidade': 'São Paulo', 'profissão': 'Estudante'}\n"
     ]
    }
   ],
   "source": [
    "#item b\n",
    "cadastro.update({'profissão': 'Estudante'})\n",
    "print(cadastro)"
   ]
  },
  {
   "cell_type": "code",
   "execution_count": 16,
   "metadata": {},
   "outputs": [
    {
     "name": "stdout",
     "output_type": "stream",
     "text": [
      "dict_keys(['nome', 'idade', 'cidade', 'profissão'])\n",
      "{'nome': 'Felipe Corral', 'idade': 26, 'profissão': 'Estudante'}\n"
     ]
    }
   ],
   "source": [
    "#item c\n",
    "print(cadastro.keys())\n",
    "if 'cidade' in cadastro.keys():\n",
    "    cadastro.pop('cidade')\n",
    "    #del cadastro['cidade']\n",
    "print(cadastro)"
   ]
  },
  {
   "cell_type": "markdown",
   "metadata": {},
   "source": [
    "3 - Crie um dicionário utilizando para representar números e seus quadrados de 1 a 5.\n",
    "\n"
   ]
  },
  {
   "cell_type": "code",
   "execution_count": 40,
   "metadata": {},
   "outputs": [
    {
     "name": "stdout",
     "output_type": "stream",
     "text": [
      "{'1': 1, '2': 4, '3': 9, '4': 16, '5': 25}\n"
     ]
    }
   ],
   "source": [
    "# quadrados = dict()\n",
    "# for num in list(range(1, 6)):\n",
    "#     quadrados[f'{num}'] = num**2\n",
    "quadrados = {x: x**2 for x in range(1, 6)}\n",
    "print(quadrados)"
   ]
  },
  {
   "cell_type": "markdown",
   "metadata": {},
   "source": [
    "4 - Crie um dicionário e verifique se uma chave específica existe dentro desse dicionário"
   ]
  },
  {
   "cell_type": "code",
   "execution_count": 26,
   "metadata": {},
   "outputs": [
    {
     "name": "stdout",
     "output_type": "stream",
     "text": [
      "São Paulo\n"
     ]
    }
   ],
   "source": [
    "cadastro = {'nome': 'Felipe Corral', 'idade': 26, 'cidade': 'São Paulo'}\n",
    "if 'cidade' in cadastro.keys():\n",
    "    print(cadastro['cidade'])"
   ]
  },
  {
   "cell_type": "markdown",
   "metadata": {},
   "source": [
    "5 - Escreva um código que conte a frequência de cada palavra em uma frase utilizando um dicionário."
   ]
  },
  {
   "cell_type": "code",
   "execution_count": 42,
   "metadata": {},
   "outputs": [
    {
     "name": "stdout",
     "output_type": "stream",
     "text": [
      "{'o': 3, 'gato': 2, 'corre': 1, 'pelo': 1, 'jardim': 1, 'enquanto': 1, 'sol': 1, 'brilha': 1, 'e': 1, 'as': 1, 'flores': 1, 'dançam': 1, 'ao': 1, 'vento': 1, 'se': 1, 'diverte': 1}\n"
     ]
    }
   ],
   "source": [
    "palavras = 'o gato corre pelo jardim enquanto o sol brilha e as flores dançam ao vento o gato se diverte'.split(' ')\n",
    "cont_palavras = dict()\n",
    "#metodo q eu fiz, mas q é meio burro\n",
    "#for palavra in palavras:\n",
    "#    if palavra not in palavras_sem_repetição: \n",
    "#        palavras_sem_repetição.append(palavra) \n",
    "#for palavra in palavras_sem_repetição:\n",
    "#    cont = 0\n",
    "#    for i in range(0, len(palavras)):\n",
    "#        if palavra == palavras[i]:\n",
    "#            cont += 1\n",
    "#    cont_palavras[f'{palavra}'] = cont\n",
    "\n",
    "#metodo dado pelo professor\n",
    "for palavra in palavras:\n",
    "    cont_palavras[palavra] = cont_palavras.get(palavra, 0) + 1\n",
    "\n",
    "#explicação\n",
    "#o metodo .get é um modo seguro de recuperar o valor de algo no dicionario pois se ele não achar a chave no mesmo ele tem um valor por padrão (segundo argumento) para não dar problema, que nesse caso é o 0, ou seja, inicialmente quando a palavra não esta cadastrada o valor associado a chave (palavra) é 0, mas se já tiver só atuaiza adicionando + 1\n",
    "print(cont_palavras)\n"
   ]
  }
 ],
 "metadata": {
  "kernelspec": {
   "display_name": "Python 3",
   "language": "python",
   "name": "python3"
  },
  "language_info": {
   "codemirror_mode": {
    "name": "ipython",
    "version": 3
   },
   "file_extension": ".py",
   "mimetype": "text/x-python",
   "name": "python",
   "nbconvert_exporter": "python",
   "pygments_lexer": "ipython3",
   "version": "3.10.0"
  }
 },
 "nbformat": 4,
 "nbformat_minor": 2
}
